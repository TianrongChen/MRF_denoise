{
 "cells": [
  {
   "cell_type": "code",
   "execution_count": 1,
   "metadata": {},
   "outputs": [],
   "source": [
    "import scipy.io as scio\n",
    "import numpy as np\n",
    "from pylab import *\n",
    "dataFile='hw1_images.mat'\n",
    "data=scio.loadmat(dataFile)\n",
    "origImg=data['origImg']\n",
    "noisyImg=data['noisyImg']"
   ]
  },
  {
   "cell_type": "code",
   "execution_count": 2,
   "metadata": {},
   "outputs": [],
   "source": [
    "def compute_E(newImg,noisyImg,h,beta,v,x,y):\n",
    "    cur_minus=h-beta*(-new_up(x,y,newImg)-new_bot(x,y,newImg)-new_left(x,y,newImg)-new_right(x,y,newImg))-\\\n",
    "                    v*(-noisyImg[x][y])\n",
    "    cur_plus=h-beta*(+new_up(x,y,newImg)+new_bot(x,y,newImg)+new_left(x,y,newImg)+new_right(x,y,newImg))-\\\n",
    "                    v*(+noisyImg[x][y])\n",
    "    if cur_minus>cur_plus:\n",
    "        return 1\n",
    "    else:\n",
    "        return -1"
   ]
  },
  {
   "cell_type": "code",
   "execution_count": 3,
   "metadata": {},
   "outputs": [],
   "source": [
    "def new_up(x,y,newImg):\n",
    "    if x==0:\n",
    "        return 0\n",
    "    else:\n",
    "        return newImg[x-1][y]"
   ]
  },
  {
   "cell_type": "code",
   "execution_count": 4,
   "metadata": {},
   "outputs": [],
   "source": [
    "def new_bot(x,y,newImg):\n",
    "    if x==newImg.shape[0]-1:\n",
    "        return 0\n",
    "    else:\n",
    "        return newImg[x+1][y]"
   ]
  },
  {
   "cell_type": "code",
   "execution_count": 5,
   "metadata": {},
   "outputs": [],
   "source": [
    "def new_left(x,y,newImg):\n",
    "    if y==0:\n",
    "        return 0\n",
    "    else:\n",
    "        return newImg[x][y-1]"
   ]
  },
  {
   "cell_type": "code",
   "execution_count": 6,
   "metadata": {},
   "outputs": [],
   "source": [
    "def new_right(x,y,newImg):\n",
    "    if y==newImg.shape[1]-1:\n",
    "        return 0\n",
    "    else:\n",
    "        return newImg[x][y+1]"
   ]
  },
  {
   "cell_type": "code",
   "execution_count": 13,
   "metadata": {},
   "outputs": [
    {
     "name": "stdout",
     "output_type": "stream",
     "text": [
      "i is: 0\n",
      "i is: 1\n"
     ]
    }
   ],
   "source": [
    "h=0\n",
    "beta=1\n",
    "v=15\n",
    "newImg=noisyImg\n",
    "error_rate=1\n",
    "for i in range(5):\n",
    "    for row in range(origImg.shape[0]):\n",
    "        for col in range(origImg.shape[1]):\n",
    "            newImg[row][col]=compute_E(newImg,noisyImg,h,beta,v,row,col)\n",
    "    print(\"i is:\",i)\n",
    "    wrong_pixels= np.sum(np.sum(origImg!=newImg))\n",
    "    if (error_rate-wrong_pixels/(newImg.shape[0]*newImg.shape[1]))<0.001:\n",
    "        break\n",
    "    else:\n",
    "        error_rate=wrong_pixels/(newImg.shape[0]*newImg.shape[1])"
   ]
  },
  {
   "cell_type": "code",
   "execution_count": 14,
   "metadata": {},
   "outputs": [
    {
     "data": {
      "text/plain": [
       "0.004678571428571429"
      ]
     },
     "execution_count": 14,
     "metadata": {},
     "output_type": "execute_result"
    },
    {
     "data": {
      "image/png": "[encoded data removed]",
      "text/plain": [
       "<matplotlib.figure.Figure at 0x7fd5b7bf9630>"
      ]
     },
     "metadata": {
      "needs_background": "light"
     },
     "output_type": "display_data"
    }
   ],
   "source": [
    "\n",
    "gray()\n",
    "\n",
    "imshow(newImg)\n",
    "error_rate"
   ]
  },
  {
   "cell_type": "code",
   "execution_count": 103,
   "metadata": {},
   "outputs": [],
   "source": [
    "\n",
    "# total_num_pixels = size(origImg,1)*size(origImg,2);\n",
    "# fprintf('The error rate is %g percent.\\n',100*(num_pixels_wrong/total_num_pixels));"
   ]
  },
  {
   "cell_type": "code",
   "execution_count": 104,
   "metadata": {},
   "outputs": [
    {
     "data": {
      "text/plain": [
       "0.004521428571428571"
      ]
     },
     "execution_count": 104,
     "metadata": {},
     "output_type": "execute_result"
    }
   ],
   "source": []
  },
  {
   "cell_type": "code",
   "execution_count": null,
   "metadata": {},
   "outputs": [],
   "source": []
  }
 ],
 "metadata": {
  "kernelspec": {
   "display_name": "Python 3",
   "language": "python",
   "name": "python3"
  },
  "language_info": {
   "codemirror_mode": {
    "name": "ipython",
    "version": 3
   },
   "file_extension": ".py",
   "mimetype": "text/x-python",
   "name": "python",
   "nbconvert_exporter": "python",
   "pygments_lexer": "ipython3",
   "version": "3.6.8"
  }
 },
 "nbformat": 4,
 "nbformat_minor": 2
}
